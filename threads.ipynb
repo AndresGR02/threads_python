{
  "nbformat": 4,
  "nbformat_minor": 0,
  "metadata": {
    "colab": {
      "provenance": [],
      "authorship_tag": "ABX9TyOerMv4uerewuWRCf+AB8ZB",
      "include_colab_link": true
    },
    "kernelspec": {
      "name": "python3",
      "display_name": "Python 3"
    },
    "language_info": {
      "name": "python"
    }
  },
  "cells": [
    {
      "cell_type": "markdown",
      "metadata": {
        "id": "view-in-github",
        "colab_type": "text"
      },
      "source": [
        "<a href=\"https://colab.research.google.com/github/AndresGR02/threads_python/blob/main/threads.ipynb\" target=\"_parent\"><img src=\"https://colab.research.google.com/assets/colab-badge.svg\" alt=\"Open In Colab\"/></a>"
      ]
    },
    {
      "cell_type": "code",
      "execution_count": 23,
      "metadata": {
        "id": "A3Ilj1GK_8JD"
      },
      "outputs": [],
      "source": [
        "import threading\n",
        "import random\n",
        "import time\n",
        "\n",
        "suma_tiempos = []"
      ]
    },
    {
      "cell_type": "code",
      "source": [
        "def ordenar_subvector(subvector, hilo):\n",
        "    global suma_tiempos\n",
        "    tiempo_inicio = time.time()\n",
        "    subvector.sort()\n",
        "    tiempo_fin = time.time()\n",
        "    tiempo_ejecucion = tiempo_fin - tiempo_inicio\n",
        "    suma_tiempos.append(tiempo_ejecucion)\n",
        "    print(f\"Hilo {hilo}: Subvector ordenado (Tiempo: {tiempo_ejecucion:.10f} segundos)\")\n"
      ],
      "metadata": {
        "id": "y2SUwJKDAKnj"
      },
      "execution_count": 24,
      "outputs": []
    },
    {
      "cell_type": "code",
      "source": [
        "def dividir_vector(vector, num_hilos):\n",
        "    longitud_subvector = len(vector) // num_hilos\n",
        "    subvectores = [vector[i:i+longitud_subvector] for i in range(0, len(vector), longitud_subvector)]\n",
        "    return subvectores\n"
      ],
      "metadata": {
        "id": "ykhLRFTFAK_8"
      },
      "execution_count": 25,
      "outputs": []
    },
    {
      "cell_type": "code",
      "source": [
        "\n",
        "def unir_vectores(subvectores):\n",
        "    vector_ordenado = [num for subvector in subvectores for num in subvector]\n",
        "    return vector_ordenado"
      ],
      "metadata": {
        "id": "TIxBshpkALEB"
      },
      "execution_count": 26,
      "outputs": []
    },
    {
      "cell_type": "code",
      "source": [
        "\n",
        "\n",
        "def ordenar_vector(vector, num_hilos):\n",
        "    subvectores = dividir_vector(vector, num_hilos)\n",
        "    threads = []\n",
        "\n",
        "    for i, subvector in enumerate(subvectores):\n",
        "        thread = threading.Thread(target=ordenar_subvector, args=(subvector, i))\n",
        "        thread.start()\n",
        "        threads.append(thread)\n",
        "    for thread in threads:\n",
        "        thread.join()\n",
        "    vector_ordenado = unir_vectores(subvectores)\n",
        "    print(f\"Vector ordenado final: {vector_ordenado}\")\n",
        "\n"
      ],
      "metadata": {
        "id": "lf0AVzxyAR7B"
      },
      "execution_count": 27,
      "outputs": []
    },
    {
      "cell_type": "code",
      "source": [
        "if __name__ == \"__main__\":\n",
        "    vector_grande = [random.randint(1, 100) for _ in range(100)]\n",
        "    num_hilos = int(input(\"Ingrese la cantidad de hilos: \"))\n",
        "    ordenar_vector(vector_grande, num_hilos)\n",
        "    t_sum = 0\n",
        "\n",
        "    for i in suma_tiempos:\n",
        "      t_sum += i\n",
        "\n",
        "    print(suma_tiempos)\n",
        "\n",
        "    print(f\"El tiempo total es de: {t_sum:.10f}\")"
      ],
      "metadata": {
        "colab": {
          "base_uri": "https://localhost:8080/"
        },
        "id": "HFX1tX7sAY7R",
        "outputId": "95566515-56b7-4e19-9957-9adebaf562a7"
      },
      "execution_count": 28,
      "outputs": [
        {
          "output_type": "stream",
          "name": "stdout",
          "text": [
            "Ingrese la cantidad de hilos: 4\n",
            "Hilo 0: Subvector ordenado (Tiempo: 0.0000076294 segundos)\n",
            "Hilo 1: Subvector ordenado (Tiempo: 0.0000045300 segundos)\n",
            "Hilo 2: Subvector ordenado (Tiempo: 0.0000042915 segundos)\n",
            "Hilo 3: Subvector ordenado (Tiempo: 0.0000040531 segundos)\n",
            "Vector ordenado final: [4, 7, 8, 9, 11, 14, 14, 19, 22, 27, 42, 47, 48, 50, 59, 59, 59, 62, 73, 79, 82, 87, 87, 97, 100, 3, 13, 15, 29, 34, 35, 37, 37, 41, 42, 50, 54, 55, 58, 63, 67, 68, 70, 79, 86, 90, 93, 94, 95, 99, 9, 14, 19, 20, 26, 32, 39, 45, 48, 50, 53, 56, 57, 61, 66, 69, 69, 73, 73, 74, 77, 80, 89, 97, 98, 3, 6, 19, 21, 24, 31, 33, 33, 33, 36, 42, 45, 53, 54, 60, 64, 70, 78, 78, 80, 81, 85, 87, 90, 98]\n",
            "[7.62939453125e-06, 4.5299530029296875e-06, 4.291534423828125e-06, 4.0531158447265625e-06]\n",
            "El tiempo total es de: 0.0000205040\n"
          ]
        }
      ]
    }
  ]
}